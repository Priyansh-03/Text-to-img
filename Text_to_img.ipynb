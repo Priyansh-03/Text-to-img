{
 "nbformat": 4,
 "nbformat_minor": 0,
 "metadata": {
  "colab": {
   "provenance": [],
   "gpuType": "T4",
   "toc_visible": true
  },
  "kernelspec": {
   "name": "python3",
   "display_name": "Python 3"
  },
  "language_info": {
   "name": "python"
  },
  "accelerator": "GPU"
 },
 "cells": [
  {
   "cell_type": "markdown",
   "source": [
    "Text to img"
   ],
   "metadata": {
    "id": "yvyg1CETrSCX"
   }
  },
  {
   "cell_type": "code",
   "source": [
    "!pip install gradio --quiet\n",
    "import torch\n",
    "from diffusers import StableDiffusionPipeline\n",
    "import gradio as gr\n"
   ],
   "metadata": {
    "id": "LybkVBrUrTFj"
   },
   "execution_count": 34,
   "outputs": []
  },
  {
   "cell_type": "code",
   "source": [
    "\n",
    "model_id = \"runwayml/stable-diffusion-v1-5\"\n",
    "pipeline = StableDiffusionPipeline.from_pretrained(\n",
    "    model_id,\n",
    "    torch_dtype=torch.float16 if torch.cuda.is_available() else torch.float32\n",
    ")\n",
    "pipeline = pipeline.to(\"cuda\" if torch.cuda.is_available() else \"cpu\")\n",
    "\n",
    "def dummy_checker(images, **kwargs):\n",
    "    return images, [False] * len(images)\n",
    "pipeline.safety_checker = dummy_checker\n",
    "\n",
    "def generate(prompt):\n",
    "    image = pipeline(prompt, num_inference_steps=30).images[0]\n",
    "    return image\n",
    "\n",
    "gr.Interface(fn=generate, inputs=\"text\", outputs=\"image\", title=\"Uncensored Text-to-Image\").launch()\n"
   ],
   "metadata": {
    "colab": {
     "base_uri": "https://localhost:8080/",
     "height": 678,
     "referenced_widgets": [
      "55d93e3847964cc59f4c07836193d3cd",
      "bd105877ea2542708cec43e9331107d3",
      "7934fea54280480cb8b97ab60e692d80",
      "be9e47fb4f114f53a2473ebaeb256351",
      "9ef72255ca8347fc894c745b728118f2",
      "b875f31bd8f746a4bb60d6d91fcb1c53",
      "d2cb400f18144df6ab670eb52fe41c15",
      "188958731c184a81818a5fdd33f82212",
      "66a6adeff27a4b1780f10693a34666c7",
      "cd41e85da5134d768e4004d4307fc7f4",
      "9b34d9aa95fb48e4aa716200062e5e33"
     ]
    },
    "id": "WUflvZeOrWRb",
    "outputId": "a91cc53d-cb0a-4818-c47c-a80ff41b53ca"
   },
   "execution_count": 35,
   "outputs": [
    {
     "output_type": "display_data",
     "data": {
      "text/plain": [
       "Loading pipeline components...:   0%|          | 0/7 [00:00<?, ?it/s]"
      ],
      "application/vnd.jupyter.widget-view+json": {
       "version_major": 2,
       "version_minor": 0,
       "model_id": "55d93e3847964cc59f4c07836193d3cd"
      }
     },
     "metadata": {}
    },
    {
     "output_type": "stream",
     "name": "stdout",
     "text": [
      "It looks like you are running Gradio on a hosted a Jupyter notebook. For the Gradio app to work, sharing must be enabled. Automatically setting `share=True` (you can turn this off by setting `share=False` in `launch()` explicitly).\n",
      "\n",
      "Colab notebook detected. To show errors in colab notebook, set debug=True in launch()\n",
      "* Running on public URL: https://7b79d5cbd9ad32384c.gradio.live\n",
      "\n",
      "This share link expires in 1 week. For free permanent hosting and GPU upgrades, run `gradio deploy` from the terminal in the working directory to deploy to Hugging Face Spaces (https://huggingface.co/spaces)\n"
     ]
    },
    {
     "output_type": "display_data",
     "data": {
      "text/plain": [
       "<IPython.core.display.HTML object>"
      ],
      "text/html": [
       "<div><iframe src=\"https://7b79d5cbd9ad32384c.gradio.live\" width=\"100%\" height=\"500\" allow=\"autoplay; camera; microphone; clipboard-read; clipboard-write;\" frameborder=\"0\" allowfullscreen></iframe></div>"
      ]
     },
     "metadata": {}
    },
    {
     "output_type": "execute_result",
     "data": {
      "text/plain": []
     },
     "metadata": {},
     "execution_count": 35
    }
   ]
  }
 ]
}